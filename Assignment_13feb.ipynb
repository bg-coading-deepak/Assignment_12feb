{
 "cells": [
  {
   "cell_type": "markdown",
   "id": "6d830359",
   "metadata": {},
   "source": [
    "### Ques-No.1\n",
    "What is Exception? Write the difference between Exception and synatx error?"
   ]
  },
  {
   "cell_type": "code",
   "execution_count": null,
   "id": "03bebc73",
   "metadata": {},
   "outputs": [],
   "source": [
    ">>An Exception is an error that happens during the execution of a program.\n",
    "  Whenever there is an error, Python generates an exception that could be handled.\n",
    "  It basically prevents the program from getting crashed.\n",
    "\n",
    ">>Errors cannot be handled,\n",
    "  while Python exceptions can be handled at the run time.\n",
    "  An error can be a syntax (parsing) error,\n",
    "  while there can be many types of exceptions \n",
    "  that could occur during the execution and are not unconditionally inoperable."
   ]
  },
  {
   "cell_type": "markdown",
   "id": "cc1f06cd",
   "metadata": {},
   "source": [
    "### Ques-No.2\n",
    "What happens when an exception is not handled? Explain with an example."
   ]
  },
  {
   "cell_type": "code",
   "execution_count": null,
   "id": "9609810c",
   "metadata": {},
   "outputs": [],
   "source": [
    ">>When an exception occurred,\n",
    "  if you don't handle it,\n",
    "    the program terminates abruptly and the code past the line that caused the exception will not get executed."
   ]
  },
  {
   "cell_type": "markdown",
   "id": "06a06a56",
   "metadata": {},
   "source": [
    "### Ques-No.3\n",
    "which python statement are used to catch and  handle to exception?\n",
    "explain with example."
   ]
  },
  {
   "cell_type": "code",
   "execution_count": null,
   "id": "d88caf20",
   "metadata": {},
   "outputs": [],
   "source": [
    ">In Python, we catch exceptions and handle them using try and except code blocks.\n",
    "   The try clause contains the code that can raise an exception,\n",
    "  while the except clause contains the code lines that handle the exception."
   ]
  },
  {
   "cell_type": "code",
   "execution_count": 1,
   "id": "b1dbd778",
   "metadata": {},
   "outputs": [
    {
     "name": "stdout",
     "output_type": "stream",
     "text": [
      "13\n",
      "hello guyes code is correct\n"
     ]
    }
   ],
   "source": [
    "try:\n",
    "    a=5\n",
    "    b=8\n",
    "    print(a+b)\n",
    "except Exception as e:\n",
    "    print(\"code is not correct found error\")\n",
    "else:\n",
    "    print(\"hello guyes code is correct\")"
   ]
  },
  {
   "cell_type": "markdown",
   "id": "f2492d52",
   "metadata": {},
   "source": [
    "### Ques-No.4\n",
    "Explain with an example:\n",
    "    #1. try and else\n",
    "    #2. finally\n",
    "    #3. raise"
   ]
  },
  {
   "cell_type": "code",
   "execution_count": null,
   "id": "f3c7d4f1",
   "metadata": {},
   "outputs": [],
   "source": [
    "1. try and else :-\n",
    "\n",
    "The try block lets you test a block of code for errors.\n",
    "The except block lets you handle the error.\n",
    "The else block lets you execute code when there is no error.\n",
    "\n",
    "2.finally :-\n",
    "\n",
    "It defines a block of code to run when the try... except...else block is final.\n",
    "The finally block will be executed no matter if the try block raises an error or not.\n",
    "\n",
    "3.raise :-\n",
    "\n",
    "The raise keyword is used to raise an exception.\n",
    "You can define what kind of error to raise, and the text to print to the user."
   ]
  },
  {
   "cell_type": "markdown",
   "id": "ad58c6a4",
   "metadata": {},
   "source": [
    "##### example"
   ]
  },
  {
   "cell_type": "code",
   "execution_count": 2,
   "id": "c370dc4f",
   "metadata": {},
   "outputs": [
    {
     "name": "stdout",
     "output_type": "stream",
     "text": [
      "code error found\n",
      "finally will try to execute itself.\n"
     ]
    }
   ],
   "source": [
    "try:\n",
    "    f=open(\"pop.txt\",\"r\")\n",
    "    f.write(\"write something\")\n",
    "except Exception as e:\n",
    "    print(\"code error found\")\n",
    "finally:\n",
    "    print(\"finally will try to execute itself.\")"
   ]
  },
  {
   "cell_type": "markdown",
   "id": "8de494f1",
   "metadata": {},
   "source": [
    "### Ques-No.5\n",
    "what are the custom exception in python?why do you need custom exception?\n",
    "Explain with an example."
   ]
  },
  {
   "cell_type": "code",
   "execution_count": null,
   "id": "9b1ca682",
   "metadata": {},
   "outputs": [],
   "source": [
    ">Like standard exception classes, custom exceptions are also classes.\n",
    "Hence, you can add functionality to the custom exception classes like:\n",
    "    Adding attributes and properties.\n",
    "    Adding methods e.g., log the exception, format the output, etc.\n",
    "    \n",
    ">For example, You are creating your own list data type in Python that only stores integer.\n",
    "In such cases, it is better to define a custom Exception\n",
    "class that provides a better understanding of the errors that users can understand and relate.\n",
    "Using built-in exception classes may not be very useful in such scenarios."
   ]
  },
  {
   "cell_type": "code",
   "execution_count": 3,
   "id": "c48a85ae",
   "metadata": {},
   "outputs": [
    {
     "name": "stdout",
     "output_type": "stream",
     "text": [
      "Enter a number: 23\n",
      "Eligible to Vote\n"
     ]
    }
   ],
   "source": [
    "# define Python user-defined exceptions\n",
    "class InvalidAgeException(Exception):\n",
    "    \"Raised when the input value is less than 18\"\n",
    "    pass\n",
    "\n",
    "# you need to guess this number\n",
    "number = 18\n",
    "\n",
    "try:\n",
    "    input_num = int(input(\"Enter a number: \"))\n",
    "    if input_num < number:\n",
    "        raise InvalidAgeException\n",
    "    else:\n",
    "        print(\"Eligible to Vote\")\n",
    "        \n",
    "except InvalidAgeException:\n",
    "    print(\"Exception occurred: Invalid Age\")"
   ]
  },
  {
   "cell_type": "markdown",
   "id": "12897eef",
   "metadata": {},
   "source": [
    "### Ques-No.6\n",
    "create a custom exception class.use this code in python to handle exception.\n"
   ]
  },
  {
   "cell_type": "code",
   "execution_count": 8,
   "id": "0e59bd29",
   "metadata": {},
   "outputs": [
    {
     "name": "stdout",
     "output_type": "stream",
     "text": [
      "This is my custom exception\n"
     ]
    }
   ],
   "source": [
    "class CustomException(Exception):\n",
    "    \"\"\" my custom exception class \"\"\"\n",
    "\n",
    "\n",
    "try:\n",
    "    raise CustomException('This is my custom exception')\n",
    "except CustomException as ex:\n",
    "    print(ex)"
   ]
  }
 ],
 "metadata": {
  "kernelspec": {
   "display_name": "Python 3 (ipykernel)",
   "language": "python",
   "name": "python3"
  },
  "language_info": {
   "codemirror_mode": {
    "name": "ipython",
    "version": 3
   },
   "file_extension": ".py",
   "mimetype": "text/x-python",
   "name": "python",
   "nbconvert_exporter": "python",
   "pygments_lexer": "ipython3",
   "version": "3.9.12"
  }
 },
 "nbformat": 4,
 "nbformat_minor": 5
}
